{
 "cells": [
  {
   "cell_type": "code",
   "execution_count": 2,
   "id": "509d4b04",
   "metadata": {},
   "outputs": [
    {
     "name": "stdout",
     "output_type": "stream",
     "text": [
      "Collecting biopython\n",
      "  Obtaining dependency information for biopython from https://files.pythonhosted.org/packages/89/38/e45df36e10de29141ba0e5d94bfb942925e62cb6ad182e58b74fa5edcfcc/biopython-1.84-cp311-cp311-win_amd64.whl.metadata\n",
      "  Downloading biopython-1.84-cp311-cp311-win_amd64.whl.metadata (13 kB)\n",
      "Requirement already satisfied: numpy in c:\\users\\darsh\\anaconda3\\lib\\site-packages (from biopython) (1.24.3)\n",
      "Downloading biopython-1.84-cp311-cp311-win_amd64.whl (2.8 MB)\n",
      "   ---------------------------------------- 0.0/2.8 MB ? eta -:--:--\n",
      "   ---------------------------------------- 0.0/2.8 MB 640.0 kB/s eta 0:00:05\n",
      "   ------ --------------------------------- 0.4/2.8 MB 5.3 MB/s eta 0:00:01\n",
      "   ---------------- ----------------------- 1.2/2.8 MB 9.3 MB/s eta 0:00:01\n",
      "   ------------------------------- -------- 2.2/2.8 MB 12.6 MB/s eta 0:00:01\n",
      "   ---------------------------------------- 2.8/2.8 MB 13.6 MB/s eta 0:00:00\n",
      "Installing collected packages: biopython\n",
      "Successfully installed biopython-1.84\n",
      "Note: you may need to restart the kernel to use updated packages.\n"
     ]
    }
   ],
   "source": [
    "pip install biopython"
   ]
  },
  {
   "cell_type": "code",
   "execution_count": 12,
   "id": "388a073d",
   "metadata": {},
   "outputs": [
    {
     "name": "stdout",
     "output_type": "stream",
     "text": [
      "Report generated and saved as 'dna_sequence_analysis_report.txt'\n"
     ]
    }
   ],
   "source": [
    "from Bio.Seq import Seq\n",
    "from Bio.SeqUtils import gc_fraction\n",
    "\n",
    "# DNA sequence\n",
    "dna_sequence = Seq(\"ATGCGTACGCGTACTGCGTAA\")\n",
    "\n",
    "# 1. Calculate GC Content using gc_fraction\n",
    "# [GC content = (Number of Gs + Number of Cs)/Total Number of Bases] * 100\n",
    "gc_content = gc_fraction(dna_sequence)\n",
    "\n",
    "# 2. Find specific motifs\n",
    "motif1 = \"ATG\"\n",
    "motif2 = \"TAG\"\n",
    "motif1_positions = []\n",
    "motif2_positions = []\n",
    "\n",
    "for i in range(len(dna_sequence) - len(motif1) + 1):\n",
    "    if dna_sequence[i:i+len(motif1)] == motif1:\n",
    "        motif1_positions.append(i)\n",
    "\n",
    "for i in range(len(dna_sequence) - len(motif2) + 1):\n",
    "    if dna_sequence[i:i+len(motif2)] == motif2:\n",
    "        motif2_positions.append(i)\n",
    "\n",
    "# 3. Identify Coding Regions (ORFs)\n",
    "start_codon = \"ATG\"\n",
    "stop_codons = [\"TAA\", \"TAG\", \"TGA\"]\n",
    "\n",
    "# checks for the occurrence of the specified motif in the sequence\n",
    "# searches for ORFs, starting from the start codon (\"ATG\") and ending at any of the stop codons (\"TAA\", \"TAG\", \"TGA\")\n",
    "def find_orfs(sequence):\n",
    "    orfs = []\n",
    "    for i in range(len(sequence) - 2):\n",
    "        codon = str(sequence[i:i+3])\n",
    "        if codon == start_codon:\n",
    "            for j in range(i, len(sequence) - 2, 3):\n",
    "                stop_codon = str(sequence[j:j+3])\n",
    "                if stop_codon in stop_codons:\n",
    "                    orfs.append((i, j+3))\n",
    "                    break\n",
    "    return orfs\n",
    "\n",
    "coding_regions = find_orfs(dna_sequence)\n",
    "\n",
    "# 4. Create a Report\n",
    "report = \"DNA Sequence Analysis Report\\n\\n\"\n",
    "report += f\"Provided DNA Sequence:\\n{dna_sequence}\\n\\n\"\n",
    "report += \"Analysis 1: Finding Motifs\\n\"\n",
    "report += f\"Motif 1 ({motif1}) found at positions: {motif1_positions}\\n\"\n",
    "report += f\"Motif 2 ({motif2}) found at positions: {motif2_positions}\\n\\n\"\n",
    "report += \"Analysis 2: Calculating GC Content\\n\"\n",
    "report += f\"GC Content: {gc_content:.2%}\\n\\n\"\n",
    "report += \"Analysis 3: Identifying Coding Regions\\n\"\n",
    "if len(coding_regions) > 0:\n",
    "    report += \"Coding regions found:\\n\"\n",
    "    for start, stop in coding_regions:\n",
    "        report += f\"Start: {start}\\nStop: {stop}\\n\"\n",
    "else:\n",
    "    report += \"No coding regions found in the sequence.\"\n",
    "\n",
    "# 5. Save the Report to a File\n",
    "with open(\"dna_sequence_analysis_report.txt\", \"w\") as report_file:\n",
    "    report_file.write(report)\n",
    "\n",
    "print(\"Report generated and saved as 'dna_sequence_analysis_report.txt'\")"
   ]
  },
  {
   "cell_type": "code",
   "execution_count": null,
   "id": "49f3a899",
   "metadata": {},
   "outputs": [],
   "source": []
  },
  {
   "cell_type": "code",
   "execution_count": null,
   "id": "01f23f60",
   "metadata": {},
   "outputs": [],
   "source": []
  }
 ],
 "metadata": {
  "kernelspec": {
   "display_name": "Python 3 (ipykernel)",
   "language": "python",
   "name": "python3"
  },
  "language_info": {
   "codemirror_mode": {
    "name": "ipython",
    "version": 3
   },
   "file_extension": ".py",
   "mimetype": "text/x-python",
   "name": "python",
   "nbconvert_exporter": "python",
   "pygments_lexer": "ipython3",
   "version": "3.11.5"
  }
 },
 "nbformat": 4,
 "nbformat_minor": 5
}
